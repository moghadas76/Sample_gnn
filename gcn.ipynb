# To add a new cell, type '# %%'
# To add a new markdown cell, type '# %% [markdown]'
# %% [markdown]
# # This is from vscode

# %%
import tensorflow as tf
from tensorflow.keras.layers import Layer, Dense
from tensorflow.keras.models import Model
import numpy as np 
import scipy as scp
import matplotlib.pyplot as plt 
import seaborn as sns


# %%
tf.version


# %%
class GCNLayer(Layer):
    def __init__(self, vertex_size, adj, init_h, dimension=5,layers=3, name="gcn", **kwargs):
        # TODO
        pass

    def call(self, inputs, training=None):

        pass


class GCN(Model):
    
    def __init__(self, vertex_size, adj, init_h, dimension=5,layers=3, name="gcn", **kwargs):
        """
            h: The initial features of graph nodes 
        """
        super(Layer, self).__init__(name,**kwargs)
        self.vertex_size = vertex_size
        self.h = init_h
        self.dimension = dimension
        self.h = 
        self.layers = layers
        self.adj = adj
        self.wl = [tf.keras.backend.random_normal((1,)) for _ in range()]
        self.dense = Dense(dimension, activation="sigmoid")

    
    def call(self, inputs, training=None):
        """
         adj:  [
                [0,1,0,1,0]
                [1,0,0,1,0]
                [0,1,0,1,0]
                [0,1,0,0,1]
                [0,1,0,1,0]
               ]
        H: [
            [1,2,3,4,5]
            [5,1,2,3,4]
            [4,5,1,2,3]
            [3,4,5,1,2]
            [2,3,4,5,1]
        ]

        """
        for index in range(self.layers):




# %%



